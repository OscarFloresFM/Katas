{
 "cells": [
  {
   "cell_type": "markdown",
   "metadata": {},
   "source": [
    "## The Moon"
   ]
  },
  {
   "cell_type": "code",
   "execution_count": 1,
   "metadata": {},
   "outputs": [
    {
     "data": {
      "text/plain": [
       "['Interesting facts about the Moon',\n",
       " \" The Moon is Earth's only satellite\",\n",
       " ' There are several interesting facts about the Moon and how it affects life here on Earth',\n",
       " ' \\nOn average, the Moon moves 4cm away from the Earth every year',\n",
       " ' This yearly drift is not significant enough to cause immediate effects on Earth',\n",
       " ' The highest daylight temperature of the Moon is 127 C',\n",
       " '']"
      ]
     },
     "execution_count": 1,
     "metadata": {},
     "output_type": "execute_result"
    }
   ],
   "source": [
    "text = \"\"\"Interesting facts about the Moon. The Moon is Earth's only satellite. There are several interesting facts about the Moon and how it affects life here on Earth. \n",
    "On average, the Moon moves 4cm away from the Earth every year. This yearly drift is not significant enough to cause immediate effects on Earth. The highest daylight temperature of the Moon is 127 C.\"\"\"\n",
    "text.split ('.')"
   ]
  },
  {
   "cell_type": "code",
   "execution_count": 3,
   "metadata": {},
   "outputs": [],
   "source": [
    "text = \"\"\"Interesting facts about the Moon. The Moon is Earth's only satellite. There are several interesting facts about the Moon and how it affects life here on Earth. \n",
    "On average, the Moon moves 4cm away from the Earth every year. This yearly drift is not significant enough to cause immediate effects on Earth. The highest daylight temperature of the Moon is 127 C.\"\"\"\n",
    "key_words = [\"average\", \"temperature\", \"distance\"]"
   ]
  },
  {
   "cell_type": "code",
   "execution_count": 10,
   "metadata": {},
   "outputs": [
    {
     "name": "stdout",
     "output_type": "stream",
     "text": [
      "\n",
      "On average, the Moon moves 4cm away from the Earth every year\n",
      "The highest daylight temperature of the Moon is 127 C.\n"
     ]
    }
   ],
   "source": [
    "text = \"\"\"Interesting facts about the Moon. The Moon is Earth's only satellite. There are several interesting facts about the Moon and how it affects life here on Earth. \n",
    "On average, the Moon moves 4cm away from the Earth every year. This yearly drift is not significant enough to cause immediate effects on Earth. The highest daylight temperature of the Moon is 127 C.\"\"\"\n",
    "moon = text.split('. ')\n",
    "moon\n",
    "key_words = [\"average\", \"temperature\", \"distance\"]\n",
    "for sentence in moon:\n",
    "    for key_word in key_words:\n",
    "        if key_word in sentence:\n",
    "            print(sentence)\n",
    "            break"
   ]
  },
  {
   "cell_type": "code",
   "execution_count": 11,
   "metadata": {},
   "outputs": [
    {
     "name": "stdout",
     "output_type": "stream",
     "text": [
      "\n",
      "On average, the Moon moves 4cm away from the Earth every year\n",
      "The highest daylight temperature of the Moon is 127 Celsius.\n"
     ]
    }
   ],
   "source": [
    "text = \"\"\"Interesting facts about the Moon. The Moon is Earth's only satellite. There are several interesting facts about the Moon and how it affects life here on Earth. \n",
    "On average, the Moon moves 4cm away from the Earth every year. This yearly drift is not significant enough to cause immediate effects on Earth. The highest daylight temperature of the Moon is 127 C.\"\"\"\n",
    "Celsius = text.split('. ')\n",
    "Celsius\n",
    "for sentence in Celsius:\n",
    "    for key_word in key_words:\n",
    "        if key_word in sentence:\n",
    "            print(sentence.replace(' C', ' Celsius'))\n",
    "            break"
   ]
  },
  {
   "cell_type": "markdown",
   "metadata": {},
   "source": [
    "### Ejercisio 2"
   ]
  },
  {
   "cell_type": "code",
   "execution_count": 22,
   "metadata": {},
   "outputs": [
    {
     "name": "stdout",
     "output_type": "stream",
     "text": [
      "Gravedad Planetaria En El Sistema Solar \n",
      "name = \"Moon\"\n",
      " gravity = 1.62\n",
      " planet = \"Earth\"\n",
      "  \n",
      "\n"
     ]
    }
   ],
   "source": [
    "heading = 'Gravedad planetaria en la luna'\n",
    "heading.title()\n"
   ]
  },
  {
   "cell_type": "code",
   "execution_count": 21,
   "metadata": {},
   "outputs": [
    {
     "name": "stdout",
     "output_type": "stream",
     "text": [
      "name = \"Moon\"\n",
      " gravity = 1.62\n",
      " planet = \"Earth\"\n",
      " \n"
     ]
    }
   ],
   "source": [
    "multiline = \"\"\"name = \"Luna\"\\n Gravedad = 1.62\\n Planeta = \"Tierra\"\\n \"\"\"\n",
    "print (multiline)"
   ]
  },
  {
   "cell_type": "code",
   "execution_count": 23,
   "metadata": {},
   "outputs": [
    {
     "name": "stdout",
     "output_type": "stream",
     "text": [
      "Gravedad Planetaria En El Sistema Solar \n",
      "name = \"Moon\"\n",
      " gravity = 1.62\n",
      " planet = \"Earth\"\n",
      "  \n",
      "\n"
     ]
    }
   ],
   "source": [
    "heading = 'Gravedad planetaria en la luna'\n",
    "heading.title()\n",
    "multiline = \"\"\"name = \"Luna\"\\n Gravedad = 1.62\\n Planeta = \"Tierra\"\\n \"\"\"\n",
    "template = f\"\"\"{heading.title()} \n",
    "{multiline} \n",
    "\"\"\" \n",
    "print(template)"
   ]
  },
  {
   "cell_type": "code",
   "execution_count": 26,
   "metadata": {},
   "outputs": [
    {
     "data": {
      "text/plain": [
       "'Gravedad Planetaria En Titan'"
      ]
     },
     "execution_count": 26,
     "metadata": {},
     "output_type": "execute_result"
    }
   ],
   "source": [
    "heading = 'Gravedad planetaria en Titan'\n",
    "heading.title()"
   ]
  },
  {
   "cell_type": "code",
   "execution_count": 25,
   "metadata": {},
   "outputs": [
    {
     "name": "stdout",
     "output_type": "stream",
     "text": [
      "name = \"Titan\"\n",
      " Gravedad = 1.352\n",
      " Planeta = \"Saturno\"\n",
      " \n"
     ]
    }
   ],
   "source": [
    "multiline = \"\"\"name = \"Titan\"\\n Gravedad = 1.352\\n Planeta = \"Saturno\"\\n \"\"\"\n",
    "print (multiline)"
   ]
  },
  {
   "cell_type": "code",
   "execution_count": 24,
   "metadata": {},
   "outputs": [
    {
     "name": "stdout",
     "output_type": "stream",
     "text": [
      "Gravedad Planetaria En Titan \n",
      "name = \"Titan\"\n",
      " Gravedad = 1.352\n",
      " Planeta = \"Saturno\"\n",
      "  \n",
      "\n"
     ]
    }
   ],
   "source": [
    "heading = 'Gravedad planetaria en Titan'\n",
    "heading.title()\n",
    "multiline = \"\"\"name = \"Titan\"\\n Gravedad = 1.352\\n Planeta = \"Saturno\"\\n \"\"\"\n",
    "template = f\"\"\"{heading.title()} \n",
    "{multiline} \n",
    "\"\"\" \n",
    "print(template)"
   ]
  }
 ],
 "metadata": {
  "interpreter": {
   "hash": "fa6b2054b9af3a1f6af822d2ae0210971a538e2ed210274d37c227bc7cc4ba30"
  },
  "kernelspec": {
   "display_name": "Python 3.10.2 64-bit",
   "language": "python",
   "name": "python3"
  },
  "language_info": {
   "codemirror_mode": {
    "name": "ipython",
    "version": 3
   },
   "file_extension": ".py",
   "mimetype": "text/x-python",
   "name": "python",
   "nbconvert_exporter": "python",
   "pygments_lexer": "ipython3",
   "version": "3.10.2"
  },
  "orig_nbformat": 4
 },
 "nbformat": 4,
 "nbformat_minor": 2
}
