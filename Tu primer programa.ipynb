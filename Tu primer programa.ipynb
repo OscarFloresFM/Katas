{
 "cells": [
  {
   "cell_type": "markdown",
   "metadata": {},
   "source": [
    "# CompuSpace\n",
    "Programa del Barco que sirve como herramienta para los tripulantes"
   ]
  },
  {
   "cell_type": "code",
   "execution_count": 32,
   "metadata": {},
   "outputs": [
    {
     "name": "stdout",
     "output_type": "stream",
     "text": [
      "Iniciando Programa\n",
      "Porfavor Introduzca su nombre\n",
      "Iniciando usuario \n",
      "Bienvenido : Oscar\n"
     ]
    }
   ],
   "source": [
    "print(\"Iniciando Programa\")\n",
    "print(\"Porfavor Introduzca su nombre\")\n",
    "name = input(\"Ingrese su nombre \")\n",
    "print(\"Iniciando usuario \")\n",
    "print(\"Bienvenido : \"+ name)"
   ]
  },
  {
   "cell_type": "markdown",
   "metadata": {},
   "source": [
    "### Fecha\n",
    "Muestra la fecha del dia de hoy"
   ]
  },
  {
   "cell_type": "code",
   "execution_count": 33,
   "metadata": {},
   "outputs": [
    {
     "name": "stdout",
     "output_type": "stream",
     "text": [
      "La fecha del dia de hoy es:  2022-02-06\n"
     ]
    }
   ],
   "source": [
    "from datetime import date\n",
    "\n",
    "print(\"La fecha del dia de hoy es: \", str(date.today()))"
   ]
  },
  {
   "cell_type": "markdown",
   "metadata": {},
   "source": [
    "### Convertidor\n",
    "Permite convertir los Pársec a Años luz e viceversa"
   ]
  },
  {
   "cell_type": "markdown",
   "metadata": {},
   "source": [
    "##### Pársec a Años luz"
   ]
  },
  {
   "cell_type": "code",
   "execution_count": 47,
   "metadata": {},
   "outputs": [
    {
     "name": "stdout",
     "output_type": "stream",
     "text": [
      "Conversor de unidades\n",
      "Inserte la cantidad de Pársec\n",
      "32.6156\n"
     ]
    }
   ],
   "source": [
    "print(\"Conversor de unidades\")\n",
    "print(\"Inserte la cantidad en Pársec\")\n",
    "first_number = input(\"Pársec: \")\n",
    "print(int(first_number) * 3.26156)"
   ]
  },
  {
   "cell_type": "markdown",
   "metadata": {},
   "source": [
    "##### Años luz a Pársec"
   ]
  },
  {
   "cell_type": "code",
   "execution_count": 48,
   "metadata": {},
   "outputs": [
    {
     "name": "stdout",
     "output_type": "stream",
     "text": [
      "Conversor de unidades\n",
      "Inserte la cantidad en Años luz\n",
      "4.599026232845633\n"
     ]
    }
   ],
   "source": [
    "print(\"Conversor de unidades\")\n",
    "print(\"Inserte la cantidad en Años luz\")\n",
    "first_number = input(\"Años luz: \")\n",
    "print(int(first_number)/3.26156)"
   ]
  }
 ],
 "metadata": {
  "interpreter": {
   "hash": "fa6b2054b9af3a1f6af822d2ae0210971a538e2ed210274d37c227bc7cc4ba30"
  },
  "kernelspec": {
   "display_name": "Python 3.10.2 64-bit",
   "language": "python",
   "name": "python3"
  },
  "language_info": {
   "codemirror_mode": {
    "name": "ipython",
    "version": 3
   },
   "file_extension": ".py",
   "mimetype": "text/x-python",
   "name": "python",
   "nbconvert_exporter": "python",
   "pygments_lexer": "ipython3",
   "version": "3.10.2"
  },
  "orig_nbformat": 4
 },
 "nbformat": 4,
 "nbformat_minor": 2
}
