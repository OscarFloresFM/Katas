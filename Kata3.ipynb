{
 "cells": [
  {
   "cell_type": "markdown",
   "metadata": {},
   "source": [
    "## Detector de Asteroides"
   ]
  },
  {
   "cell_type": "code",
   "execution_count": 2,
   "metadata": {},
   "outputs": [
    {
     "name": "stdout",
     "output_type": "stream",
     "text": [
      "Hola explorer por favor escribe tu usuario\n",
      "Hola Oscar\n"
     ]
    }
   ],
   "source": [
    "print (\"Hola explorer por favor escribe tu usuario\")\n",
    "name= input (\"Introduce tu usuario\")\n",
    "print(\"Hola \"+ name)"
   ]
  },
  {
   "cell_type": "markdown",
   "metadata": {},
   "source": [
    "### Detector de Asteroides"
   ]
  },
  {
   "cell_type": "code",
   "execution_count": 30,
   "metadata": {},
   "outputs": [
    {
     "name": "stdout",
     "output_type": "stream",
     "text": [
      "Alerta Alerta un asteroide se acerca a una velocidad de 49\n"
     ]
    }
   ],
   "source": [
    "a=25\n",
    "b=49\n",
    "if b >= a:\n",
    "    print (\"Alerta Alerta un asteroide se acerca a una velocidad de \"+ str (b))\n",
    "else: \n",
    "    print (\"Tranquilo todo esta bien un asteroide esta cerca de usted con una velocidad de \"+ str (b))"
   ]
  },
  {
   "cell_type": "code",
   "execution_count": 35,
   "metadata": {},
   "outputs": [
    {
     "name": "stdout",
     "output_type": "stream",
     "text": [
      "El asteroide es muy lento para dejar un rayo de luz\n"
     ]
    }
   ],
   "source": [
    "a=19\n",
    "if a >= 20:\n",
    "    print (\"Mira al cielo un asteroide va dejando su rayo de luz\")\n",
    "elif a == 20:\n",
    "    print (\"Mira al cielo un asteroide va dejando su rayo de luz \")\n",
    "else:\n",
    "    print (\"El asteroide es muy lento para dejar un rayo de luz\")"
   ]
  },
  {
   "cell_type": "code",
   "execution_count": 42,
   "metadata": {},
   "outputs": [
    {
     "name": "stdout",
     "output_type": "stream",
     "text": [
      "Alerta Alerta un asteroide puede colisionar con la tierra\n",
      "La velocidad del asteroide es 25\n",
      "El tamaño del asteroide es 50\n"
     ]
    }
   ],
   "source": [
    "tamaño=50\n",
    "velocidad=25\n",
    "if velocidad >= 25 and tamaño >= 25:\n",
    "    print (\"Alerta Alerta un asteroide puede colisionar con la tierra\")\n",
    "elif velocidad >= 20:\n",
    "    print (\"Mira al cielo un asteroide va dejando su rayo de luz\")\n",
    "elif velocidad <= 25:\n",
    "    print (\"El asteroide no es peligroso viaja a \"+ str(velocidad))\n",
    "else:\n",
    "    print (\"El asteroide es muy lento para dejar un rayo de luz\")\n",
    "print (\"La velocidad del asteroide es \"+ str(velocidad))\n",
    "print (\"El tamaño del asteroide es \" + str(tamaño))"
   ]
  }
 ],
 "metadata": {
  "interpreter": {
   "hash": "fa6b2054b9af3a1f6af822d2ae0210971a538e2ed210274d37c227bc7cc4ba30"
  },
  "kernelspec": {
   "display_name": "Python 3.10.2 64-bit",
   "language": "python",
   "name": "python3"
  },
  "language_info": {
   "codemirror_mode": {
    "name": "ipython",
    "version": 3
   },
   "file_extension": ".py",
   "mimetype": "text/x-python",
   "name": "python",
   "nbconvert_exporter": "python",
   "pygments_lexer": "ipython3",
   "version": "3.10.2"
  },
  "orig_nbformat": 4
 },
 "nbformat": 4,
 "nbformat_minor": 2
}
