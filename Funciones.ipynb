{
 "cells": [
  {
   "cell_type": "markdown",
   "metadata": {},
   "source": [
    "# Trabajar con argumentos en funciones"
   ]
  },
  {
   "cell_type": "code",
   "execution_count": 10,
   "metadata": {},
   "outputs": [],
   "source": [
    "def Tanques_Combustible (Tanque1, Tanque2, Tanque3):\n",
    "    Combustible = ((Tanque1), (Tanque2), (Tanque3))/3\n",
    "    return f\"\"\"Tcombustible:\n",
    "    Combustible: {Combustible}%\n",
    "    Tanque 1: {Tanque1}%\n",
    "    Tanque 2: {Tanque2}%\n",
    "    Tanque 3: {Tanque3}% \n",
    "    \"\"\""
   ]
  },
  {
   "cell_type": "code",
   "execution_count": 18,
   "metadata": {},
   "outputs": [
    {
     "name": "stdout",
     "output_type": "stream",
     "text": [
      "Total de combustible:\n",
      "    Pormedio total: 0.0%\n",
      "    Tanque 1: 0%\n",
      "    Tanque 2: 0%\n",
      "    Tanque 3: 0% \n",
      "    \n"
     ]
    }
   ],
   "source": [
    "print(Tanques_Combustible(0, 0, 0))"
   ]
  },
  {
   "cell_type": "code",
   "execution_count": 19,
   "metadata": {},
   "outputs": [
    {
     "data": {
      "text/plain": [
       "0.0"
      ]
     },
     "execution_count": 19,
     "metadata": {},
     "output_type": "execute_result"
    }
   ],
   "source": [
    "def Promedio(Tanques):\n",
    "    total = sum(Tanques)\n",
    "    Ttanques = len(Tanques)\n",
    "    return total / Ttanques\n",
    "Promedio ([0, 0, 0])"
   ]
  },
  {
   "cell_type": "code",
   "execution_count": 17,
   "metadata": {},
   "outputs": [
    {
     "name": "stdout",
     "output_type": "stream",
     "text": [
      "Total de combustible:\n",
      "    Pormedio total: 74.66666666666667%\n",
      "    Tanque 1: 75%\n",
      "    Tanque 2: 76%\n",
      "    Tanque 3: 73% \n",
      "    \n"
     ]
    }
   ],
   "source": [
    "def Tanques_Combustible (Tanque1, Tanque2, Tanque3):\n",
    "    return f\"\"\"Total de combustible:\n",
    "    Pormedio total: {Promedio([Tanque1, Tanque2, Tanque3])}%\n",
    "    Tanque 1: {Tanque1}%\n",
    "    Tanque 2: {Tanque2}%\n",
    "    Tanque 3: {Tanque3}% \n",
    "    \"\"\"\n",
    "print(Tanques_Combustible(75, 76, 73))"
   ]
  },
  {
   "cell_type": "markdown",
   "metadata": {},
   "source": [
    "## Trabajar con argumentos de palabras clave en funciones"
   ]
  },
  {
   "cell_type": "code",
   "execution_count": null,
   "metadata": {},
   "outputs": [],
   "source": [
    "def informe_preciso_de_la_misión (prelanzamiento, tiempo_de_vuelo, destino, tanque_externo, tanque_interno):\n",
    "    return f\"\"\" Informe_de_la_misión:\n",
    "    Lugar de destino {destino}\n",
    "    Tiempo Aproximado de vuelo {prelanzamiento + tiempo_de_vuelo} Minutos\n",
    "    Cantidad de Combustible {tanque_externo + tanque_interno} Litros \"\"\""
   ]
  },
  {
   "cell_type": "code",
   "execution_count": null,
   "metadata": {},
   "outputs": [],
   "source": [
    "def Informe_Misión (destino, *minutos, **Reservas_de_combustible):\n",
    "    return f\"\"\" Informe_Misión\n",
    "    Lugar de destino {destino}\n",
    "    Tiempo total para el viaje: {sum(minutos)} minutos\n",
    "    Combustible total: {sum(Reservas_de_combustible.values())}\n",
    "    \"\"\""
   ]
  },
  {
   "cell_type": "code",
   "execution_count": 22,
   "metadata": {},
   "outputs": [],
   "source": [
    "def Informe_Misión(destino, *minutos, **Reservas_de_combustible):\n",
    "    Reporte_Final = f\"\"\"\n",
    "    Viajando a {destino}\n",
    "    Tiempo de viaje {sum(minutos)} minutos\n",
    "    Combustible total: {sum(Reservas_de_combustible.values())}\n",
    "    \"\"\"\n",
    "    for Taque, Litros in Reservas_de_combustible.items():\n",
    "        Reporte_Final += f\"{Taque} Tanque --> {Litros} Combustible en litros\\n\"\n",
    "    return Reporte_Final"
   ]
  },
  {
   "cell_type": "code",
   "execution_count": 26,
   "metadata": {},
   "outputs": [
    {
     "name": "stdout",
     "output_type": "stream",
     "text": [
      "\n",
      "    Viajando a Luna\n",
      "    Tiempo de viaje 9 minutos\n",
      "    Combustible total: 500000\n",
      "    main Tanque --> 300000 Combustible en litros\n",
      "external Tanque --> 200000 Combustible en litros\n",
      "\n"
     ]
    }
   ],
   "source": [
    "print(Informe_Misión(input(\"Planeta destino\"), int(input(\"Despegue\")), int(input(\"Tiempo de vuelo\")), int(input(\"Aterrizaje\")), Tanque_Principal=300000, Tanque_de_emerjencia=200000))"
   ]
  }
 ],
 "metadata": {
  "interpreter": {
   "hash": "fa6b2054b9af3a1f6af822d2ae0210971a538e2ed210274d37c227bc7cc4ba30"
  },
  "kernelspec": {
   "display_name": "Python 3.10.2 64-bit",
   "language": "python",
   "name": "python3"
  },
  "language_info": {
   "codemirror_mode": {
    "name": "ipython",
    "version": 3
   },
   "file_extension": ".py",
   "mimetype": "text/x-python",
   "name": "python",
   "nbconvert_exporter": "python",
   "pygments_lexer": "ipython3",
   "version": "3.10.2"
  },
  "orig_nbformat": 4
 },
 "nbformat": 4,
 "nbformat_minor": 2
}
