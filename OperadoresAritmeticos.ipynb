{
 "cells": [
  {
   "cell_type": "markdown",
   "metadata": {},
   "source": [
    "# Operadores Aritméticos en Python"
   ]
  },
  {
   "cell_type": "code",
   "execution_count": 1,
   "metadata": {},
   "outputs": [
    {
     "name": "stdout",
     "output_type": "stream",
     "text": [
      "628949330\n",
      "628949330\n"
     ]
    }
   ],
   "source": [
    "Distancia = (abs(149597870 - 778547200))\n",
    "(abs(778547200 - 149597870))"
   ]
  },
  {
   "cell_type": "code",
   "execution_count": 4,
   "metadata": {},
   "outputs": [
    {
     "name": "stdout",
     "output_type": "stream",
     "text": [
      "628949330\n",
      "390577534\n"
     ]
    }
   ],
   "source": [
    "Distancia = (abs(149597870 - 778547200))\n",
    "Millas = (Distancia*0.621)\n",
    "Dm = round (Millas)\n",
    "print (Distancia)\n",
    "print (Dm)"
   ]
  },
  {
   "cell_type": "markdown",
   "metadata": {},
   "source": [
    "## Crear una aplicación para trabajar con números y entrada de usuario"
   ]
  },
  {
   "cell_type": "code",
   "execution_count": 11,
   "metadata": {},
   "outputs": [],
   "source": [
    "Planeta1 = input (\"Distancia del sol al planeta\")\n",
    "Planeta2 = input (\"Distancia del sol al planeta\")"
   ]
  },
  {
   "cell_type": "code",
   "execution_count": 12,
   "metadata": {},
   "outputs": [],
   "source": [
    "DistanciaP1 = int (Planeta1)\n",
    "DistanciaP2 = int (Planeta2)"
   ]
  },
  {
   "cell_type": "code",
   "execution_count": 14,
   "metadata": {},
   "outputs": [
    {
     "name": "stdout",
     "output_type": "stream",
     "text": [
      "30\n",
      "19\n"
     ]
    }
   ],
   "source": [
    "Planetaria = (abs(DistanciaP1 - DistanciaP2))\n",
    "MPlanetaria = round(Planetaria*0.621)\n",
    "print (Planetaria)\n",
    "print (MPlanetaria)"
   ]
  }
 ],
 "metadata": {
  "interpreter": {
   "hash": "fa6b2054b9af3a1f6af822d2ae0210971a538e2ed210274d37c227bc7cc4ba30"
  },
  "kernelspec": {
   "display_name": "Python 3.10.2 64-bit",
   "language": "python",
   "name": "python3"
  },
  "language_info": {
   "codemirror_mode": {
    "name": "ipython",
    "version": 3
   },
   "file_extension": ".py",
   "mimetype": "text/x-python",
   "name": "python",
   "nbconvert_exporter": "python",
   "pygments_lexer": "ipython3",
   "version": "3.10.2"
  },
  "orig_nbformat": 4
 },
 "nbformat": 4,
 "nbformat_minor": 2
}
